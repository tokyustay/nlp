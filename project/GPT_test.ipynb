{
 "cells": [
  {
   "cell_type": "code",
   "execution_count": 1,
   "metadata": {},
   "outputs": [],
   "source": [
    "import os\n",
    "\n",
    "from langchain_openai import ChatOpenAI\n",
    "from langchain_core.prompts import ChatPromptTemplate\n",
    "from langchain_core.output_parsers import JsonOutputParser\n",
    "import dotenv\n",
    "\n",
    "from system_prompt import SYSTEM_PROMPT as system_prompt\n",
    "\n",
    "dotenv.load_dotenv()\n",
    "\n",
    "\n",
    "GPT_3_5_TURBO = 'gpt-3.5-turbo-0125'\n",
    "GPT_4_TURBO = 'gpt-4-turbo-2024-04-09'\n",
    "\n",
    "\n",
    "def invoke_gpt(input_text, model=GPT_3_5_TURBO):\n",
    "    llm = ChatOpenAI(\n",
    "        model=model,\n",
    "        temperature=0,\n",
    "        response_format={\"type\": \"json_object\"},\n",
    "    )\n",
    "\n",
    "    prompt = ChatPromptTemplate.from_messages(\n",
    "        [(\"system\", system_prompt), (\"user\", \"{input}\")]\n",
    "    )\n",
    "\n",
    "    chain = prompt | llm | JsonOutputParser()\n",
    "\n",
    "    return chain.invoke({\n",
    "        \"input\": \"Input:\\n\" + input_text + \"Output Keywords:\\n\"\n",
    "    })"
   ]
  },
  {
   "cell_type": "code",
   "execution_count": 2,
   "metadata": {},
   "outputs": [
    {
     "name": "stdout",
     "output_type": "stream",
     "text": [
      "Running model gpt-3.5-turbo-0125\n"
     ]
    },
    {
     "name": "stderr",
     "output_type": "stream",
     "text": [
      "/Users/shydev/Desktop/2024-1/자연어처리_팀플_GPT/.venv/lib/python3.11/site-packages/langchain_core/utils/utils.py:159: UserWarning: WARNING! response_format is not default parameter.\n",
      "                response_format was transferred to model_kwargs.\n",
      "                Please confirm that response_format is what you intended.\n",
      "  warnings.warn(\n",
      "/Users/shydev/Desktop/2024-1/자연어처리_팀플_GPT/.venv/lib/python3.11/site-packages/langchain_core/utils/utils.py:159: UserWarning: WARNING! response_format is not default parameter.\n",
      "                response_format was transferred to model_kwargs.\n",
      "                Please confirm that response_format is what you intended.\n",
      "  warnings.warn(\n"
     ]
    },
    {
     "name": "stdout",
     "output_type": "stream",
     "text": [
      "Running model gpt-4-turbo-2024-04-09\n"
     ]
    }
   ],
   "source": [
    "import json\n",
    "\n",
    "with open(\"data.json\", \"r\", encoding=\"utf-8\") as f:\n",
    "    data = json.load(f)\n",
    "\n",
    "models = [GPT_3_5_TURBO, GPT_4_TURBO]\n",
    "for m in models:\n",
    "    print(f\"Running model {m}\")\n",
    "\n",
    "    results = []\n",
    "\n",
    "    for d in data:\n",
    "        results.append(invoke_gpt(d[\"text\"], m))\n",
    "    m = m.replace(\"-\", \"_\").replace(\".\", \"_\")\n",
    "    with open(f\"result_{m}.json\", \"w\") as f:\n",
    "        json.dump(results, f, indent=4, ensure_ascii=False)"
   ]
  }
 ],
 "metadata": {
  "kernelspec": {
   "display_name": "Python 3",
   "language": "python",
   "name": "python3"
  },
  "language_info": {
   "codemirror_mode": {
    "name": "ipython",
    "version": 3
   },
   "file_extension": ".py",
   "mimetype": "text/x-python",
   "name": "python",
   "nbconvert_exporter": "python",
   "pygments_lexer": "ipython3",
   "version": "3.11.6"
  }
 },
 "nbformat": 4,
 "nbformat_minor": 2
}
